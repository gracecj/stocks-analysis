{
  "cells": [
    {
      "cell_type": "raw",
      "id": "f445dcd6",
      "metadata": {},
      "source": [
        "---\n",
        "title: Stock Report\n",
        "format:\n",
        "  html:\n",
        "    code-fold: true\n",
        "---"
      ]
    },
    {
      "cell_type": "markdown",
      "id": "f5ed050c",
      "metadata": {},
      "source": [
        "# Stock Prices\n",
        "\n",
        "## Introduction\n",
        "\n",
        "This QMD file demonstrates how to retrieve stock prices using Python.\n",
        "\n",
        "## Code\n"
      ]
    },
    {
      "cell_type": "code",
      "execution_count": null,
      "id": "bfaafdf1",
      "metadata": {},
      "outputs": [],
      "source": [
        "# Import necessary libraries\n",
        "import yfinance as yf\n",
        "\n",
        "# Define function to get stock prices\n",
        "def get_stock_price(symbol):\n",
        "    stock = yf.Ticker(symbol)\n",
        "    price = stock.history(period='1d')['Close'][0]\n",
        "    return price\n",
        "\n",
        "# List of stock symbols\n",
        "stock_symbols = ['AAPL', 'GOOGL', 'MSFT', 'AMZN']\n",
        "\n",
        "# Get and display stock prices\n",
        "for symbol in stock_symbols:\n",
        "    price = get_stock_price(symbol)\n",
        "    print(f'{symbol}: ${price:.2f}')"
      ]
    }
  ],
  "metadata": {
    "kernelspec": {
      "display_name": "Python 3.12.0 64-bit",
      "language": "python",
      "name": "python3"
    },
    "language_info": {
      "name": "python",
      "version": "3.12.0"
    },
    "vscode": {
      "interpreter": {
        "hash": "f1062708a37074d70712b695aadee582e0b0b9f95f45576b5521424137d05fec"
      }
    }
  },
  "nbformat": 4,
  "nbformat_minor": 5
}
